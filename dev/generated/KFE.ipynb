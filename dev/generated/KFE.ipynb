{
 "cells": [
  {
   "cell_type": "markdown",
   "metadata": {},
   "source": [
    "# Discretizing Kolmogorov Forward Equations \n",
    "## Kolmogorov Forward Equations (KFE)\n",
    "The KFE equation is\n",
    "$$\n",
    "\\partial_t v(x,t) = -\\mu \\partial_{x} v(x,t) + \\frac{\\sigma^2}{2} \\partial_{xx} v(x,t)\n",
    "$$\n",
    "for $x \\in (x_{\\min}, x_{\\max})$. The corresponding reflecting barrier conditions are\n",
    "$$\n",
    "\\begin{align}\n",
    "-\\mu v(x_{\\min}, t) +\\frac{\\sigma^2}{2} \\partial_{x} v(x_{\\min}, t) &= 0 \\\\\n",
    "-\\mu v(x_{\\max}, t) +\\frac{\\sigma^2}{2} \\partial_{x} v(x_{\\max}, t) &= 0\n",
    "\\end{align}\n",
    "$$\n",
    "\n",
    "For notational brevity, we fix $t$ and omit $t$ on $v$ unless it is needed for clarity. Let $\\tilde L$ be a differential operator such that $\\tilde L v(x)$ represents $\\partial_t v(x,t)$, i.e., $\\tilde L v (x) = -\\mu v'(x) + (\\sigma^2/2) v''(x) $. \n",
    "\n",
    "Discretize the domain by $\\{x_i \\}_{i=0}^{M+1}$ with $x_0 = x_{\\min}$ and $x_{M+1} = x_{\\max}$ uniformly with the grid size of $\\Delta$. Let $v_i$ represent $v(x_i)$ accordingly for all $i = 0, ..., M+1$."
   ]
  },
  {
   "cell_type": "code",
   "execution_count": 1,
   "metadata": {},
   "outputs": [
    {
     "name": "stderr",
     "output_type": "stream",
     "text": [
      "┌ Info: Recompiling stale cache file /Users/arnavsood/.julia/compiled/v1.1/SimpleDifferentialOperators/MrC3M.ji for SimpleDifferentialOperators [7ccca996-40d6-5c2f-be7f-4eb2934af9c4]\n",
      "└ @ Base loading.jl:1184\n",
      "┌ Warning: Package SimpleDifferentialOperators does not have Parameters in its dependencies:\n",
      "│ - If you have SimpleDifferentialOperators checked out for development and have\n",
      "│   added Parameters as a dependency but haven't updated your primary\n",
      "│   environment's manifest file, try `Pkg.resolve()`.\n",
      "│ - Otherwise you may need to report an issue with SimpleDifferentialOperators\n",
      "└ Loading Parameters into SimpleDifferentialOperators from project dependency, future warnings for SimpleDifferentialOperators are suppressed.\n"
     ]
    }
   ],
   "source": [
    "using SimpleDifferentialOperators, Test\n",
    "μ = -1.0 # constant negative drift\n",
    "σ = 1.\n",
    "M = 3 # size of grid (interior points)\n",
    "@assert μ <= 0 # make sure we are using negative drifts\n",
    "x̄ = range(0.0, 1.0, length = (M+2))\n",
    "Δ = step(x̄)\n",
    "x = interiornodes(x̄); # i.e., x̄[2:end-1]"
   ]
  },
  {
   "cell_type": "markdown",
   "metadata": {},
   "source": [
    "The corresponding discretized operator $L$ can be constructed as follows:"
   ]
  },
  {
   "cell_type": "code",
   "execution_count": 2,
   "metadata": {},
   "outputs": [
    {
     "data": {
      "text/plain": [
       "3×5 Array{Float64,2}:\n",
       " 8.0  -20.0   12.0    0.0   0.0\n",
       " 0.0    8.0  -20.0   12.0   0.0\n",
       " 0.0    0.0    8.0  -20.0  12.0"
      ]
     },
     "execution_count": 2,
     "metadata": {},
     "output_type": "execute_result"
    }
   ],
   "source": [
    "# construct the discretized operator L\n",
    "L = Array(-μ*L₁₊(x̄) + σ^2 / 2 * L₂(x̄))"
   ]
  },
  {
   "cell_type": "markdown",
   "metadata": {},
   "source": [
    "Under upwind scheme with the current negative drift term $\\mu \\leq 0$, the discretized boundary conditions are\n",
    "$$\n",
    "\\begin{align}\n",
    "-\\mu v_1 +\\frac{\\sigma^2}{2} \\frac{v_1 - v_0}{\\Delta} &= 0 \\\\\n",
    "-\\mu v_{M+1} +\\frac{\\sigma^2}{2} \\frac{v_{M+1} - v_M}{\\Delta} &= 0\n",
    "\\end{align}\n",
    "$$\n",
    "\n",
    "Note that $-\\mu$ appears on the second column, not the first column for the lower bound as the drift is negative. The corresponding boundary condition matrices are\n",
    "\n",
    "$$\n",
    "B =\n",
    "\\begin{bmatrix}\n",
    "-\\frac{\\sigma^{2}}{2 \\Delta} & {-\\mu+\\frac{\\sigma^{2}}{2 \\Delta}} & {0} & {\\ldots} & {0} & {0} & {0}\\\\\n",
    "{0} & {0} & {0} & {\\ldots} & {0} & {-\\frac{\\sigma^{2}}{2 \\Delta}} & {-\\mu+\\frac{\\sigma^{2}}{2 \\Delta}}\n",
    "\\end{bmatrix}_{2 \\times(M+2)}\n",
    "$$\n",
    "\n",
    "and\n",
    "\n",
    "$$\n",
    "b = \n",
    "\\begin{bmatrix}\n",
    "0 \\\\ 0\n",
    "\\end{bmatrix}\n",
    "$$"
   ]
  },
  {
   "cell_type": "code",
   "execution_count": 3,
   "metadata": {},
   "outputs": [],
   "source": [
    "# construct boundary condition matrices\n",
    "B = transpose([[- σ^2/(2*Δ); -μ + σ^2/(2*Δ); zeros(M)] [zeros(M); -σ^2/(2*Δ); -μ+σ^2/(2*Δ)]])\n",
    "b = [0; 0];"
   ]
  },
  {
   "cell_type": "markdown",
   "metadata": {},
   "source": [
    "such that the discretized solution $\\overline{v}$ satisfies the following system:\n",
    "\n",
    "$$\n",
    "\\begin{bmatrix}\n",
    "L \\\\\n",
    "B\n",
    "\\end{bmatrix} \n",
    "\\overline{v}\n",
    "= \n",
    "\\begin{bmatrix}\n",
    "v_t \\\\\n",
    "b\n",
    "\\end{bmatrix} \n",
    "$$\n",
    "\n",
    "where $\\overline{v}$ is an $(M+2)$-vector whose elements are $\\{v_i\\}_{i=0}^{M+1}$ and $v_t$ is an $M$-vector whose $i$th element is $\\partial_t v(x_i,t)$."
   ]
  },
  {
   "cell_type": "code",
   "execution_count": 4,
   "metadata": {},
   "outputs": [
    {
     "data": {
      "text/plain": [
       "5×5 Array{Float64,2}:\n",
       "  8.0  -20.0   12.0    0.0   0.0\n",
       "  0.0    8.0  -20.0   12.0   0.0\n",
       "  0.0    0.0    8.0  -20.0  12.0\n",
       " -2.0    3.0    0.0    0.0   0.0\n",
       "  0.0    0.0    0.0   -2.0   3.0"
      ]
     },
     "execution_count": 4,
     "metadata": {},
     "output_type": "execute_result"
    }
   ],
   "source": [
    "# display the full system on the left side\n",
    "[L; B]"
   ]
  },
  {
   "cell_type": "markdown",
   "metadata": {},
   "source": [
    "It is also worth mentioning that for $\\mu \\geq 0$, the discretized boundary conditions are \n",
    "$$\n",
    "\\begin{align}\n",
    "-\\mu v_0 +\\frac{\\sigma^2}{2} \\frac{v_1 - v_0}{\\Delta} &= 0 \\\\\n",
    "-\\mu v_{M} +\\frac{\\sigma^2}{2} \\frac{v_{M+1} - v_M}{\\Delta} &= 0\n",
    "\\end{align}\n",
    "$$\n",
    "\n",
    "and the corresponding boundary condition matrix $B$ would have been\n",
    "\n",
    "$$\n",
    "B =\n",
    "\\begin{bmatrix}\n",
    "-\\mu-\\frac{\\sigma^{2}}{2 \\Delta} & {\\frac{\\sigma^{2}}{2 \\Delta}} & {0} & {\\ldots} & {0} & {0} & {0}\\\\\n",
    "{0} & {0} & {0} & {\\ldots} & {0} & {-\\mu-\\frac{\\sigma^{2}}{2 \\Delta}} & {\\frac{\\sigma^{2}}{2 \\Delta}}\n",
    "\\end{bmatrix}_{2 \\times(M+2)}\n",
    "$$\n",
    "\n",
    "Now perform Gaussian elimination once -- substract the first row of $L$ by a multiple of the first row of $B$ to make the first column of the resulting matrix have zeros only:"
   ]
  },
  {
   "cell_type": "code",
   "execution_count": 5,
   "metadata": {},
   "outputs": [
    {
     "data": {
      "text/plain": [
       "5×5 Array{Float64,2}:\n",
       "  0.0  -8.0   12.0    0.0   0.0\n",
       "  0.0   8.0  -20.0   12.0   0.0\n",
       "  0.0   0.0    8.0  -20.0  12.0\n",
       " -2.0   3.0    0.0    0.0   0.0\n",
       "  0.0   0.0    0.0   -2.0   3.0"
      ]
     },
     "execution_count": 5,
     "metadata": {},
     "output_type": "execute_result"
    }
   ],
   "source": [
    "# copy L from the original system\n",
    "L_KFE = copy(L)\n",
    "\n",
    "# Gaussian elimination on the first row \n",
    "L_KFE[1,:] -= (L[1,1] / B[1,1])*B[1,:]\n",
    "[L_KFE; B]"
   ]
  },
  {
   "cell_type": "markdown",
   "metadata": {},
   "source": [
    "Likewise, perform another Gaussian elimination by substracting the last row of the resulting $L$ by a multiple of the second row of $B$ to make the last column of the resulting matrix have zeros only:"
   ]
  },
  {
   "cell_type": "code",
   "execution_count": 6,
   "metadata": {},
   "outputs": [
    {
     "data": {
      "text/plain": [
       "5×5 Array{Float64,2}:\n",
       "  0.0  -8.0   12.0    0.0  0.0\n",
       "  0.0   8.0  -20.0   12.0  0.0\n",
       "  0.0   0.0    8.0  -12.0  0.0\n",
       " -2.0   3.0    0.0    0.0  0.0\n",
       "  0.0   0.0    0.0   -2.0  3.0"
      ]
     },
     "execution_count": 6,
     "metadata": {},
     "output_type": "execute_result"
    }
   ],
   "source": [
    "# Gaussian elimination on the last row\n",
    "L_KFE[end,:] -= (L[end,end] / B[end,end])*B[end,:]\n",
    "[L_KFE; B]"
   ]
  },
  {
   "cell_type": "markdown",
   "metadata": {},
   "source": [
    "Note that the most left and right columns corresponding to $L$ are all zeros. Extracting the interior yields"
   ]
  },
  {
   "cell_type": "code",
   "execution_count": 7,
   "metadata": {},
   "outputs": [
    {
     "data": {
      "text/plain": [
       "3×3 Array{Float64,2}:\n",
       " -8.0   12.0    0.0\n",
       "  8.0  -20.0   12.0\n",
       "  0.0    8.0  -12.0"
      ]
     },
     "execution_count": 7,
     "metadata": {},
     "output_type": "execute_result"
    }
   ],
   "source": [
    "# extract the interior, as the first and last columns are all zeros\n",
    "L_KFE = L_KFE[:,2:end-1]"
   ]
  },
  {
   "cell_type": "markdown",
   "metadata": {},
   "source": [
    "And the corresponding eigenvalues are:"
   ]
  },
  {
   "cell_type": "code",
   "execution_count": 8,
   "metadata": {},
   "outputs": [
    {
     "data": {
      "text/plain": [
       "3-element Array{Float64,1}:\n",
       " -29.797958971132715    \n",
       "  -5.499073418846478e-16\n",
       " -10.202041028867287    "
      ]
     },
     "execution_count": 8,
     "metadata": {},
     "output_type": "execute_result"
    }
   ],
   "source": [
    "using LinearAlgebra\n",
    "LinearAlgebra.eigvals(L_KFE)"
   ]
  },
  {
   "cell_type": "markdown",
   "metadata": {},
   "source": [
    "### Constructing with operators with `SimpleDifferentialOperators.jl`\n",
    "Or, using `SimpleDifferentialOperators.jl`, this can be defined using mixed boundary conditions as well; note that multiplying both sides by $2/\\sigma^2$ on the boundary condition equations above, we have the following equivalent equations:\n",
    "$$\n",
    "\\begin{align}\n",
    "-\\frac{2\\mu}{\\sigma^2} v(x_{\\min}, t) +\\partial_{x} v(x_{\\min}, t) &= 0 \\\\\n",
    "-\\frac{2\\mu}{\\sigma^2} v(x_{\\max}, t) +\\partial_{x} v(x_{\\max}, t) &= 0\n",
    "\\end{align}\n",
    "$$\n",
    "which gives mixed boundary conditions with $\\overline{\\xi} = \\underline{\\xi} = -\\frac{2\\mu}{\\sigma^2}$:"
   ]
  },
  {
   "cell_type": "code",
   "execution_count": 9,
   "metadata": {},
   "outputs": [
    {
     "data": {
      "text/plain": [
       "3×3 Array{Float64,2}:\n",
       " -8.0   12.0    0.0\n",
       "  8.0  -20.0   12.0\n",
       "  0.0    8.0  -12.0"
      ]
     },
     "execution_count": 9,
     "metadata": {},
     "output_type": "execute_result"
    }
   ],
   "source": [
    "# ξ values for mixed boundary conditions\n",
    "ξ_lb = ξ_ub = -2μ/σ^2\n",
    "\n",
    "# define the corresponding mixed boundary conditions\n",
    "# note that the direction on the lower bound is backward (default is forward)\n",
    "bc = (Mixed(ξ = ξ_lb, direction = :backward), Mixed(ξ = ξ_ub))\n",
    "\n",
    "# use SimpleDifferentialOperators.jl to construct the operator on the interior\n",
    "L_KFE_SDO = Array(-μ*L₁₊bc(x̄, bc) + σ^2 / 2 * L₂bc(x̄, bc))"
   ]
  },
  {
   "cell_type": "markdown",
   "metadata": {},
   "source": [
    "which returns an identical operator as `L_KFE` we just have constructed."
   ]
  },
  {
   "cell_type": "code",
   "execution_count": 10,
   "metadata": {},
   "outputs": [
    {
     "data": {
      "text/plain": [
       "\u001b[32m\u001b[1mTest Passed\u001b[22m\u001b[39m"
      ]
     },
     "execution_count": 10,
     "metadata": {},
     "output_type": "execute_result"
    }
   ],
   "source": [
    "# confirm it returns an identical operator\n",
    "@test L_KFE ≈ L_KFE_SDO"
   ]
  },
  {
   "cell_type": "markdown",
   "metadata": {},
   "source": [
    "### Alternative: ignoring upwind scheme for boundary conditions\n",
    "As mentioned above, $-\\mu$ appears on the second column, not the first column for the lower bound. Suppose that it were not the case, i.e., $B$ is constructed as\n",
    "\n",
    "$$\n",
    "B =\n",
    "\\begin{bmatrix}\n",
    "-\\mu-\\frac{\\sigma^{2}}{2 \\Delta} & {\\frac{\\sigma^{2}}{2 \\Delta}} & {0} & {\\ldots} & {0} & {0} & {0}\\\\\n",
    "{0} & {0} & {0} & {\\ldots} & {0} & {-\\frac{\\sigma^{2}}{2 \\Delta}} & {-\\mu+\\frac{\\sigma^{2}}{2 \\Delta}}\n",
    "\\end{bmatrix}_{2 \\times(M+2)}\n",
    "$$\n",
    "\n",
    "Then the corresponding discretized operator `L_KFE_try` is:"
   ]
  },
  {
   "cell_type": "code",
   "execution_count": 11,
   "metadata": {},
   "outputs": [
    {
     "data": {
      "text/plain": [
       "3×3 Array{Float64,2}:\n",
       " -4.0   12.0    0.0\n",
       "  8.0  -20.0   12.0\n",
       "  0.0    8.0  -12.0"
      ]
     },
     "execution_count": 11,
     "metadata": {},
     "output_type": "execute_result"
    }
   ],
   "source": [
    "# construct boundary condition matrix\n",
    "B = transpose([[-μ- σ^2/(2*Δ); σ^2/(2*Δ); zeros(M)] [zeros(M); -σ^2/(2*Δ); -μ+σ^2/(2*Δ)]])\n",
    "\n",
    "# copy L from the original system\n",
    "L_KFE_try = copy(L)\n",
    "\n",
    "# Gaussian elimination on the first row \n",
    "L_KFE_try[1,:] -= (L[1,1] / B[1,1])*B[1,:]\n",
    "\n",
    "# Gaussian elimination on the last row\n",
    "L_KFE_try[end,:] -= (L[end,end] / B[end,end])*B[end,:]\n",
    "\n",
    "# extract the interior, as the first and last columns are all zeros\n",
    "L_KFE_try = L_KFE_try[:,2:end-1]\n",
    "\n",
    "L_KFE_try"
   ]
  },
  {
   "cell_type": "markdown",
   "metadata": {},
   "source": [
    "The eigenvalues for `L_KFE_try` are:"
   ]
  },
  {
   "cell_type": "code",
   "execution_count": 12,
   "metadata": {},
   "outputs": [
    {
     "data": {
      "text/plain": [
       "3-element Array{Float64,1}:\n",
       " -29.32965915104908  \n",
       "   2.2111964297224973\n",
       "  -8.881537278673418 "
      ]
     },
     "execution_count": 12,
     "metadata": {},
     "output_type": "execute_result"
    }
   ],
   "source": [
    "LinearAlgebra.eigvals(L_KFE_try)"
   ]
  },
  {
   "cell_type": "markdown",
   "metadata": {},
   "source": [
    "## Infinitesimal generator for Brownian motions\n",
    "The infinitesimal generator for Brownian motions is defined as $\\tilde L$ such that\n",
    "$$\n",
    "\\tilde{L}_B v = \\mu v'(x) + \\frac{\\sigma^2}{2} v''(x)\n",
    "$$\n",
    "for $x \\in (x_{\\min}, x_{\\max})$. Assume that reflecting barrier conditions are applied on both lower bound and upper bound, i.e.,\n",
    "$$\n",
    "\\begin{align}\n",
    "v'(x_{\\min}) &= 0 \\\\\n",
    "v'(x_{\\max}) &= 0 \\\\\n",
    "\\end{align}\n",
    "$$\n",
    "\n",
    "Using `SimpleDifferentialOperators.jl`, one can construct a discretized operator $L_B$ for $\\tilde{L}_B$ under the reflecting boundary conditions:"
   ]
  },
  {
   "cell_type": "code",
   "execution_count": 13,
   "metadata": {},
   "outputs": [
    {
     "data": {
      "text/plain": [
       "3×3 Array{Float64,2}:\n",
       " -8.0    8.0    0.0\n",
       " 12.0  -20.0    8.0\n",
       "  0.0   12.0  -12.0"
      ]
     },
     "execution_count": 13,
     "metadata": {},
     "output_type": "execute_result"
    }
   ],
   "source": [
    "# define boundary conditions\n",
    "bc = (Reflecting(), Reflecting())\n",
    "# define discretized operator\n",
    "L_B = Array(μ*L₁₋bc(x̄, bc) + σ^2 / 2 * L₂bc(x̄, bc))"
   ]
  },
  {
   "cell_type": "markdown",
   "metadata": {},
   "source": [
    "### Duality of $L$\n",
    "Note that the operator for the KFE $\\tilde{L}$ is the adjoint operator of the infinitesimal generator $\\tilde{L}_B$, and the correct discretization scheme for $L$ is, analogously, done by taking the transpose of the discretized operator for $L_B$ (See [Gabaix et al., 2016](https://doi.org/10.3982/ECTA13569) and [Achdou et al., 2017](https://ideas.repec.org/p/nbr/nberwo/23732.html)). \n",
    "In fact, the transpose of $L_B$ is identical with $L$:"
   ]
  },
  {
   "cell_type": "code",
   "execution_count": 14,
   "metadata": {},
   "outputs": [
    {
     "data": {
      "text/plain": [
       "\u001b[32m\u001b[1mTest Passed\u001b[22m\u001b[39m"
      ]
     },
     "execution_count": 14,
     "metadata": {},
     "output_type": "execute_result"
    }
   ],
   "source": [
    "@test L_KFE ≈ transpose(L_B)"
   ]
  }
 ],
 "metadata": {
  "kernelspec": {
   "display_name": "Julia 1.1.0",
   "language": "julia",
   "name": "julia-1.1"
  },
  "language_info": {
   "file_extension": ".jl",
   "mimetype": "application/julia",
   "name": "julia",
   "version": "1.1.0"
  }
 },
 "nbformat": 4,
 "nbformat_minor": 2
}
