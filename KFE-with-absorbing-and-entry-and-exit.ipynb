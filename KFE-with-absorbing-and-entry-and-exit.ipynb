{
 "cells": [
  {
   "cell_type": "code",
   "execution_count": null,
   "metadata": {},
   "outputs": [],
   "source": [
    "using SimpleDifferentialOperators, SparseArrays, LinearAlgebra, Test\n",
    "μ = 0.0 # constant negative drift\n",
    "σ = 1.\n",
    "M = 3 # size of grid (interior points)\n",
    "@assert μ <= 0 # make sure we are using negative drifts\n",
    "x̄ = range(0.0, 1.0, length = (M+2))\n",
    "Δ = step(x̄)\n",
    "x = interiornodes(x̄); # i.e., x̄[2:end-1]"
   ]
  },
  {
   "cell_type": "code",
   "execution_count": 2,
   "metadata": {},
   "outputs": [
    {
     "data": {
      "text/plain": [
       "h (generic function with 1 method)"
      ]
     },
     "execution_count": 2,
     "metadata": {},
     "output_type": "execute_result"
    }
   ],
   "source": [
    "θ = 1.0\n",
    "δ = 0.\n",
    "h(x) = θ * exp(-θ * x) / (1 - exp(-θ * maximum(x̄)))"
   ]
  },
  {
   "cell_type": "code",
   "execution_count": 3,
   "metadata": {},
   "outputs": [
    {
     "data": {
      "text/plain": [
       "3-element Array{Float64,1}:\n",
       " 0.3333333333333333\n",
       " 0.3333333333333333\n",
       " 0.3333333333333333"
      ]
     },
     "execution_count": 3,
     "metadata": {},
     "output_type": "execute_result"
    }
   ],
   "source": [
    "# vectorized h (use uniform distribution for now for simplicity)\n",
    "# h̄ = h.(x) / (sum(h.(x)))\n",
    "h̄ = ones(M)*(1/M)"
   ]
  },
  {
   "cell_type": "code",
   "execution_count": 4,
   "metadata": {},
   "outputs": [
    {
     "data": {
      "text/plain": [
       "3×3 Array{Float64,2}:\n",
       " -16.6667      8.66667   0.0\n",
       "   7.33333   -15.3333    8.0\n",
       "  -0.666667    8.66667  -8.0"
      ]
     },
     "execution_count": 4,
     "metadata": {},
     "output_type": "execute_result"
    }
   ],
   "source": [
    "# S is μf(0) + (σ^2/2)f'(0); in discretized system it is\n",
    "# μ f_0 + (σ^2/2) (f_1 - f_0)/Δ\n",
    "bc = (Absorbing(), Reflecting())\n",
    "L_KFE = -μ*L₁₊bc(x̄, bc) + σ^2 / 2 * L₂bc(x̄, bc)\n",
    "Sh =  [(μ-σ^2/(2*Δ)).*h̄ (σ^2/(2*Δ)).*h̄ spzeros(M, M-2)]\n",
    "L_bc = Array(L_KFE + Sh)"
   ]
  },
  {
   "cell_type": "code",
   "execution_count": 5,
   "metadata": {},
   "outputs": [
    {
     "name": "stderr",
     "output_type": "stream",
     "text": [
      "┌ Warning: Adjusting nev from 6 to 1\n",
      "└ @ Arpack C:\\Users\\Chiyoung Ahn\\.julia\\packages\\Arpack\\UiiMc\\src\\Arpack.jl:99\n"
     ]
    },
    {
     "data": {
      "text/plain": [
       "3-element Array{Float64,1}:\n",
       " 0.2013262347646525 \n",
       " 0.35698325869942665\n",
       " 0.4416905065359208 "
      ]
     },
     "execution_count": 5,
     "metadata": {},
     "output_type": "execute_result"
    }
   ],
   "source": [
    "using Arpack # library for extracting eigenvalues and eigenvectors\n",
    "\n",
    "# extract eigenvalues and eigenvectors, smallest eigenval in magintute first\n",
    "λ, ϕ = eigs(L_bc, which = :SM); \n",
    "# extract the very first eigenvector (associated with the smallest eigenvalue)\n",
    "f_ss = real.(ϕ[:,1]);\n",
    "# normalize it\n",
    "f_ss = f_ss / sum(f_ss)"
   ]
  },
  {
   "cell_type": "code",
   "execution_count": 6,
   "metadata": {},
   "outputs": [
    {
     "data": {
      "text/plain": [
       "3-element Array{Float64,1}:\n",
       " -26.136597195201347 \n",
       " -12.564106974550972 \n",
       "  -1.2992958302476723"
      ]
     },
     "execution_count": 6,
     "metadata": {},
     "output_type": "execute_result"
    }
   ],
   "source": [
    "eigvals(Array(L_bc))"
   ]
  },
  {
   "cell_type": "code",
   "execution_count": 7,
   "metadata": {},
   "outputs": [
    {
     "data": {
      "text/plain": [
       "3-element Array{Float64,1}:\n",
       " -0.26158233734917813\n",
       " -0.4638268594963906 \n",
       " -0.573886633402104  "
      ]
     },
     "execution_count": 7,
     "metadata": {},
     "output_type": "execute_result"
    }
   ],
   "source": [
    "# check if f_ss is in fact a stationary distribution \n",
    "# i.e., the resulting product should be a zero vector\n",
    "L_bc * f_ss"
   ]
  },
  {
   "cell_type": "code",
   "execution_count": 8,
   "metadata": {},
   "outputs": [
    {
     "data": {
      "image/svg+xml": [
       "<?xml version=\"1.0\" encoding=\"utf-8\"?>\n",
       "<svg xmlns=\"http://www.w3.org/2000/svg\" xmlns:xlink=\"http://www.w3.org/1999/xlink\" width=\"600\" height=\"400\" viewBox=\"0 0 2400 1600\">\n",
       "<defs>\n",
       "  <clipPath id=\"clip7800\">\n",
       "    <rect x=\"0\" y=\"0\" width=\"2000\" height=\"2000\"/>\n",
       "  </clipPath>\n",
       "</defs>\n",
       "<defs>\n",
       "  <clipPath id=\"clip7801\">\n",
       "    <rect x=\"0\" y=\"0\" width=\"2400\" height=\"1600\"/>\n",
       "  </clipPath>\n",
       "</defs>\n",
       "<polygon clip-path=\"url(#clip7801)\" points=\"\n",
       "0,1600 2400,1600 2400,0 0,0 \n",
       "  \" fill=\"#ffffff\" fill-rule=\"evenodd\" fill-opacity=\"1\"/>\n",
       "<defs>\n",
       "  <clipPath id=\"clip7802\">\n",
       "    <rect x=\"480\" y=\"0\" width=\"1681\" height=\"1600\"/>\n",
       "  </clipPath>\n",
       "</defs>\n",
       "<polygon clip-path=\"url(#clip7801)\" points=\"\n",
       "188.156,1503.47 2321.26,1503.47 2321.26,47.2441 188.156,47.2441 \n",
       "  \" fill=\"#ffffff\" fill-rule=\"evenodd\" fill-opacity=\"1\"/>\n",
       "<defs>\n",
       "  <clipPath id=\"clip7803\">\n",
       "    <rect x=\"188\" y=\"47\" width=\"2134\" height=\"1457\"/>\n",
       "  </clipPath>\n",
       "</defs>\n",
       "<polyline clip-path=\"url(#clip7803)\" style=\"stroke:#000000; stroke-width:2; stroke-opacity:0.1; fill:none\" points=\"\n",
       "  449.763,1503.47 449.763,47.2441 \n",
       "  \"/>\n",
       "<polyline clip-path=\"url(#clip7803)\" style=\"stroke:#000000; stroke-width:2; stroke-opacity:0.1; fill:none\" points=\"\n",
       "  852.236,1503.47 852.236,47.2441 \n",
       "  \"/>\n",
       "<polyline clip-path=\"url(#clip7803)\" style=\"stroke:#000000; stroke-width:2; stroke-opacity:0.1; fill:none\" points=\"\n",
       "  1254.71,1503.47 1254.71,47.2441 \n",
       "  \"/>\n",
       "<polyline clip-path=\"url(#clip7803)\" style=\"stroke:#000000; stroke-width:2; stroke-opacity:0.1; fill:none\" points=\"\n",
       "  1657.18,1503.47 1657.18,47.2441 \n",
       "  \"/>\n",
       "<polyline clip-path=\"url(#clip7803)\" style=\"stroke:#000000; stroke-width:2; stroke-opacity:0.1; fill:none\" points=\"\n",
       "  2059.65,1503.47 2059.65,47.2441 \n",
       "  \"/>\n",
       "<polyline clip-path=\"url(#clip7803)\" style=\"stroke:#000000; stroke-width:2; stroke-opacity:0.1; fill:none\" points=\"\n",
       "  188.156,1469.84 2321.26,1469.84 \n",
       "  \"/>\n",
       "<polyline clip-path=\"url(#clip7803)\" style=\"stroke:#000000; stroke-width:2; stroke-opacity:0.1; fill:none\" points=\"\n",
       "  188.156,1184.07 2321.26,1184.07 \n",
       "  \"/>\n",
       "<polyline clip-path=\"url(#clip7803)\" style=\"stroke:#000000; stroke-width:2; stroke-opacity:0.1; fill:none\" points=\"\n",
       "  188.156,898.291 2321.26,898.291 \n",
       "  \"/>\n",
       "<polyline clip-path=\"url(#clip7803)\" style=\"stroke:#000000; stroke-width:2; stroke-opacity:0.1; fill:none\" points=\"\n",
       "  188.156,612.515 2321.26,612.515 \n",
       "  \"/>\n",
       "<polyline clip-path=\"url(#clip7803)\" style=\"stroke:#000000; stroke-width:2; stroke-opacity:0.1; fill:none\" points=\"\n",
       "  188.156,326.74 2321.26,326.74 \n",
       "  \"/>\n",
       "<polyline clip-path=\"url(#clip7801)\" style=\"stroke:#000000; stroke-width:4; stroke-opacity:1; fill:none\" points=\"\n",
       "  188.156,1503.47 2321.26,1503.47 \n",
       "  \"/>\n",
       "<polyline clip-path=\"url(#clip7801)\" style=\"stroke:#000000; stroke-width:4; stroke-opacity:1; fill:none\" points=\"\n",
       "  188.156,1503.47 188.156,47.2441 \n",
       "  \"/>\n",
       "<polyline clip-path=\"url(#clip7801)\" style=\"stroke:#000000; stroke-width:4; stroke-opacity:1; fill:none\" points=\"\n",
       "  449.763,1503.47 449.763,1481.63 \n",
       "  \"/>\n",
       "<polyline clip-path=\"url(#clip7801)\" style=\"stroke:#000000; stroke-width:4; stroke-opacity:1; fill:none\" points=\"\n",
       "  852.236,1503.47 852.236,1481.63 \n",
       "  \"/>\n",
       "<polyline clip-path=\"url(#clip7801)\" style=\"stroke:#000000; stroke-width:4; stroke-opacity:1; fill:none\" points=\"\n",
       "  1254.71,1503.47 1254.71,1481.63 \n",
       "  \"/>\n",
       "<polyline clip-path=\"url(#clip7801)\" style=\"stroke:#000000; stroke-width:4; stroke-opacity:1; fill:none\" points=\"\n",
       "  1657.18,1503.47 1657.18,1481.63 \n",
       "  \"/>\n",
       "<polyline clip-path=\"url(#clip7801)\" style=\"stroke:#000000; stroke-width:4; stroke-opacity:1; fill:none\" points=\"\n",
       "  2059.65,1503.47 2059.65,1481.63 \n",
       "  \"/>\n",
       "<polyline clip-path=\"url(#clip7801)\" style=\"stroke:#000000; stroke-width:4; stroke-opacity:1; fill:none\" points=\"\n",
       "  188.156,1469.84 220.153,1469.84 \n",
       "  \"/>\n",
       "<polyline clip-path=\"url(#clip7801)\" style=\"stroke:#000000; stroke-width:4; stroke-opacity:1; fill:none\" points=\"\n",
       "  188.156,1184.07 220.153,1184.07 \n",
       "  \"/>\n",
       "<polyline clip-path=\"url(#clip7801)\" style=\"stroke:#000000; stroke-width:4; stroke-opacity:1; fill:none\" points=\"\n",
       "  188.156,898.291 220.153,898.291 \n",
       "  \"/>\n",
       "<polyline clip-path=\"url(#clip7801)\" style=\"stroke:#000000; stroke-width:4; stroke-opacity:1; fill:none\" points=\"\n",
       "  188.156,612.515 220.153,612.515 \n",
       "  \"/>\n",
       "<polyline clip-path=\"url(#clip7801)\" style=\"stroke:#000000; stroke-width:4; stroke-opacity:1; fill:none\" points=\"\n",
       "  188.156,326.74 220.153,326.74 \n",
       "  \"/>\n",
       "<g clip-path=\"url(#clip7801)\">\n",
       "<text style=\"fill:#000000; fill-opacity:1; font-family:Arial,Helvetica Neue,Helvetica,sans-serif; font-size:48px; text-anchor:middle;\" transform=\"rotate(0, 449.763, 1557.47)\" x=\"449.763\" y=\"1557.47\">0.3</text>\n",
       "</g>\n",
       "<g clip-path=\"url(#clip7801)\">\n",
       "<text style=\"fill:#000000; fill-opacity:1; font-family:Arial,Helvetica Neue,Helvetica,sans-serif; font-size:48px; text-anchor:middle;\" transform=\"rotate(0, 852.236, 1557.47)\" x=\"852.236\" y=\"1557.47\">0.4</text>\n",
       "</g>\n",
       "<g clip-path=\"url(#clip7801)\">\n",
       "<text style=\"fill:#000000; fill-opacity:1; font-family:Arial,Helvetica Neue,Helvetica,sans-serif; font-size:48px; text-anchor:middle;\" transform=\"rotate(0, 1254.71, 1557.47)\" x=\"1254.71\" y=\"1557.47\">0.5</text>\n",
       "</g>\n",
       "<g clip-path=\"url(#clip7801)\">\n",
       "<text style=\"fill:#000000; fill-opacity:1; font-family:Arial,Helvetica Neue,Helvetica,sans-serif; font-size:48px; text-anchor:middle;\" transform=\"rotate(0, 1657.18, 1557.47)\" x=\"1657.18\" y=\"1557.47\">0.6</text>\n",
       "</g>\n",
       "<g clip-path=\"url(#clip7801)\">\n",
       "<text style=\"fill:#000000; fill-opacity:1; font-family:Arial,Helvetica Neue,Helvetica,sans-serif; font-size:48px; text-anchor:middle;\" transform=\"rotate(0, 2059.65, 1557.47)\" x=\"2059.65\" y=\"1557.47\">0.7</text>\n",
       "</g>\n",
       "<g clip-path=\"url(#clip7801)\">\n",
       "<text style=\"fill:#000000; fill-opacity:1; font-family:Arial,Helvetica Neue,Helvetica,sans-serif; font-size:48px; text-anchor:end;\" transform=\"rotate(0, 164.156, 1487.34)\" x=\"164.156\" y=\"1487.34\">0.20</text>\n",
       "</g>\n",
       "<g clip-path=\"url(#clip7801)\">\n",
       "<text style=\"fill:#000000; fill-opacity:1; font-family:Arial,Helvetica Neue,Helvetica,sans-serif; font-size:48px; text-anchor:end;\" transform=\"rotate(0, 164.156, 1201.57)\" x=\"164.156\" y=\"1201.57\">0.25</text>\n",
       "</g>\n",
       "<g clip-path=\"url(#clip7801)\">\n",
       "<text style=\"fill:#000000; fill-opacity:1; font-family:Arial,Helvetica Neue,Helvetica,sans-serif; font-size:48px; text-anchor:end;\" transform=\"rotate(0, 164.156, 915.791)\" x=\"164.156\" y=\"915.791\">0.30</text>\n",
       "</g>\n",
       "<g clip-path=\"url(#clip7801)\">\n",
       "<text style=\"fill:#000000; fill-opacity:1; font-family:Arial,Helvetica Neue,Helvetica,sans-serif; font-size:48px; text-anchor:end;\" transform=\"rotate(0, 164.156, 630.015)\" x=\"164.156\" y=\"630.015\">0.35</text>\n",
       "</g>\n",
       "<g clip-path=\"url(#clip7801)\">\n",
       "<text style=\"fill:#000000; fill-opacity:1; font-family:Arial,Helvetica Neue,Helvetica,sans-serif; font-size:48px; text-anchor:end;\" transform=\"rotate(0, 164.156, 344.24)\" x=\"164.156\" y=\"344.24\">0.40</text>\n",
       "</g>\n",
       "<polyline clip-path=\"url(#clip7803)\" style=\"stroke:#009af9; stroke-width:16; stroke-opacity:1; fill:none\" points=\"\n",
       "  248.527,1462.26 1254.71,572.603 2260.89,88.4582 \n",
       "  \"/>\n",
       "<polygon clip-path=\"url(#clip7801)\" points=\"\n",
       "1920.98,251.724 2249.26,251.724 2249.26,130.764 1920.98,130.764 \n",
       "  \" fill=\"#ffffff\" fill-rule=\"evenodd\" fill-opacity=\"1\"/>\n",
       "<polyline clip-path=\"url(#clip7801)\" style=\"stroke:#000000; stroke-width:4; stroke-opacity:1; fill:none\" points=\"\n",
       "  1920.98,251.724 2249.26,251.724 2249.26,130.764 1920.98,130.764 1920.98,251.724 \n",
       "  \"/>\n",
       "<polyline clip-path=\"url(#clip7801)\" style=\"stroke:#009af9; stroke-width:16; stroke-opacity:1; fill:none\" points=\"\n",
       "  1944.98,191.244 2088.98,191.244 \n",
       "  \"/>\n",
       "<g clip-path=\"url(#clip7801)\">\n",
       "<text style=\"fill:#000000; fill-opacity:1; font-family:Arial,Helvetica Neue,Helvetica,sans-serif; font-size:48px; text-anchor:start;\" transform=\"rotate(0, 2112.98, 208.744)\" x=\"2112.98\" y=\"208.744\">f_ss</text>\n",
       "</g>\n",
       "</svg>\n"
      ]
     },
     "execution_count": 8,
     "metadata": {},
     "output_type": "execute_result"
    }
   ],
   "source": [
    "using Plots \n",
    "plot(x, f_ss, lw = 4, label = \"f_ss\")"
   ]
  }
 ],
 "metadata": {
  "kernelspec": {
   "display_name": "Julia 1.1.0",
   "language": "julia",
   "name": "julia-1.1"
  },
  "language_info": {
   "file_extension": ".jl",
   "mimetype": "application/julia",
   "name": "julia",
   "version": "1.1.0"
  }
 },
 "nbformat": 4,
 "nbformat_minor": 2
}
